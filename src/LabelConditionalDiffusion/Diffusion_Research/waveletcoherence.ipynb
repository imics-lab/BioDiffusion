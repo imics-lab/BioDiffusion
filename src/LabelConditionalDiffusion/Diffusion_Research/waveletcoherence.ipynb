{
 "cells": [
  {
   "cell_type": "code",
   "execution_count": null,
   "metadata": {},
   "outputs": [],
   "source": [
    "# compute wavelet coherence scores"
   ]
  },
  {
   "cell_type": "code",
   "execution_count": 7,
   "metadata": {},
   "outputs": [
    {
     "name": "stdout",
     "output_type": "stream",
     "text": [
      "Average wavelet coherence: 0.01805298880520757\n"
     ]
    }
   ],
   "source": [
    "import pywt\n",
    "import numpy as np\n",
    "\n",
    "def calculate_wavelet_coherence(set_A, set_B, wavelet='db2'):\n",
    "    \"\"\"Compute wavelet coherence for each pair of signals in two sets.\n",
    "    \n",
    "    Args:\n",
    "        set_A: First set of signals. Each signal is a multi-dimensional numpy array.\n",
    "        set_B: Second set of signals. Each signal is a multi-dimensional numpy array.\n",
    "        wavelet: Type of wavelet to use in the wavelet transform.\n",
    "\n",
    "    Returns:\n",
    "        coherence_avg: Average wavelet coherence for each pair of signals.\n",
    "    \"\"\"\n",
    "    coherence_list = []\n",
    "    for idx in range(set_A.shape[0]):\n",
    "        signal1 = set_A[idx]\n",
    "        signal2 = set_B[idx]\n",
    "        coherence_dim = []\n",
    "        for dim in range(signal1.shape[1]):\n",
    "            # Compute wavelet transform of both signals\n",
    "            coefs1 = pywt.wavedec(signal1[:, dim], wavelet)\n",
    "            coefs2 = pywt.wavedec(signal2[:, dim], wavelet)\n",
    "\n",
    "            # Compute wavelet coherence as the correlation of the wavelet coefficients\n",
    "            coherence = [np.corrcoef(c1, c2)[0,1] for c1, c2 in zip(coefs1, coefs2)]\n",
    "            coherence_dim.append(coherence)\n",
    "        coherence_list.append(coherence_dim)\n",
    "\n",
    "    # Compute average coherence\n",
    "    coherence_avg = np.mean(coherence_list)\n",
    "    return coherence_avg\n",
    "\n"
   ]
  },
  {
   "cell_type": "code",
   "execution_count": 11,
   "metadata": {},
   "outputs": [
    {
     "name": "stderr",
     "output_type": "stream",
     "text": [
      "<frozen importlib._bootstrap>:219: RuntimeWarning: scipy._lib.messagestream.MessageStream size changed, may indicate binary incompatibility. Expected 56 from C header, got 64 from PyObject\n"
     ]
    }
   ],
   "source": [
    "from MITBIH import *\n",
    "from sklearn.utils import resample"
   ]
  },
  {
   "cell_type": "code",
   "execution_count": 12,
   "metadata": {},
   "outputs": [
    {
     "name": "stdout",
     "output_type": "stream",
     "text": [
      "Data shape of Non-Ectopic Beats instances = (72471, 1, 128)\n",
      "(7000, 128, 1)\n"
     ]
    }
   ],
   "source": [
    "filename = './datasets/MITBIH/mitbih_train.csv'\n",
    "real_cls0 = mitbih_oneClass(filename = filename, class_id = 0).data\n",
    "real_cls0 = np.transpose(real_cls0, (0, 2, 1))\n",
    "real_cls0 = resample(real_cls0, n_samples=7000, random_state=123, replace=True)\n",
    "print(real_cls0.shape)"
   ]
  },
  {
   "cell_type": "code",
   "execution_count": 13,
   "metadata": {},
   "outputs": [
    {
     "name": "stdout",
     "output_type": "stream",
     "text": [
      "Data shape of Fusion Beats instances = (6431, 1, 128)\n",
      "(6431, 128, 1)\n"
     ]
    }
   ],
   "source": [
    "real_cls4 = mitbih_oneClass(filename = filename, class_id = 4).data\n",
    "real_cls4 = np.transpose(real_cls4, (0, 2, 1))\n",
    "print(real_cls4.shape)"
   ]
  },
  {
   "cell_type": "code",
   "execution_count": 14,
   "metadata": {},
   "outputs": [
    {
     "name": "stdout",
     "output_type": "stream",
     "text": [
      "data shape is (35000, 1, 128)\n",
      "labels shape is (35000,)\n",
      "The dataset including 7000 class 0, 7000 class 1, 7000 class 2, 7000 class 3, 7000 class 4\n",
      "(7000, 128, 1)\n",
      "(7000, 128, 1)\n"
     ]
    }
   ],
   "source": [
    "mitbih = syn_mitbih(n_samples = 7000)\n",
    "syn_cls0 = mitbih.syn_0\n",
    "syn_cls0 = np.transpose(syn_cls0, (0, 2, 1))\n",
    "print(syn_cls0.shape)\n",
    "syn_cls4 = mitbih.syn_4\n",
    "syn_cls4 = np.transpose(syn_cls4, (0, 2, 1))\n",
    "print(syn_cls4.shape)"
   ]
  },
  {
   "cell_type": "code",
   "execution_count": 15,
   "metadata": {},
   "outputs": [
    {
     "name": "stdout",
     "output_type": "stream",
     "text": [
      "Average wavelet coherence mitbih class 0: 0.47614788001723546\n"
     ]
    }
   ],
   "source": [
    "# Calculate average wavelet coherence\n",
    "avg_coherence = calculate_wavelet_coherence(real_cls0, syn_cls0)\n",
    "print(f\"Average wavelet coherence mitbih class 0: {avg_coherence}\")"
   ]
  },
  {
   "cell_type": "code",
   "execution_count": 16,
   "metadata": {},
   "outputs": [
    {
     "name": "stdout",
     "output_type": "stream",
     "text": [
      "Average wavelet coherence mitbih class 4: 0.4192534176217696\n"
     ]
    }
   ],
   "source": [
    "# Calculate average wavelet coherence\n",
    "avg_coherence = calculate_wavelet_coherence(real_cls4, syn_cls4[:6431])\n",
    "print(f\"Average wavelet coherence mitbih class 4: {avg_coherence}\")"
   ]
  },
  {
   "cell_type": "code",
   "execution_count": 17,
   "metadata": {},
   "outputs": [],
   "source": [
    "from UNIMIB import *"
   ]
  },
  {
   "cell_type": "code",
   "execution_count": 18,
   "metadata": {},
   "outputs": [
    {
     "name": "stdout",
     "output_type": "stream",
     "text": [
      "x_train shape is (6055, 3, 144), x_test shape is (1524, 3, 144)\n",
      "y_train shape is (6055,), y_test shape is (1524,)\n",
      "return single class data and labels, class is Jumping\n",
      "train_data shape is (600, 3, 144), test_data shape is (146, 3, 144)\n",
      "train label shape is (600,), test data shape is (146,)\n",
      "(600, 144, 3)\n"
     ]
    }
   ],
   "source": [
    "real_jumping = unimib_load_dataset(single_class=True, class_name='Jumping').one_class_train_data\n",
    "real_jumping = np.transpose(real_jumping, (0, 2, 1))\n",
    "print(real_jumping.shape)"
   ]
  },
  {
   "cell_type": "code",
   "execution_count": 19,
   "metadata": {},
   "outputs": [
    {
     "name": "stdout",
     "output_type": "stream",
     "text": [
      "x_train shape is (6055, 3, 144), x_test shape is (1524, 3, 144)\n",
      "y_train shape is (6055,), y_test shape is (1524,)\n",
      "return single class data and labels, class is SittingDown\n",
      "train_data shape is (168, 3, 144), test_data shape is (32, 3, 144)\n",
      "train label shape is (168,), test data shape is (32,)\n",
      "(168, 144, 3)\n"
     ]
    }
   ],
   "source": [
    "real_sittingdown = unimib_load_dataset(single_class=True, class_name='SittingDown').one_class_train_data\n",
    "real_sittingdown = np.transpose(real_sittingdown, (0, 2, 1))\n",
    "print(real_sittingdown.shape)"
   ]
  },
  {
   "cell_type": "code",
   "execution_count": 20,
   "metadata": {},
   "outputs": [
    {
     "name": "stdout",
     "output_type": "stream",
     "text": [
      "Data shape is (9000, 3, 144)\n",
      "Label shape is (9000,)\n",
      "(1000, 144, 3)\n",
      "(1000, 144, 3)\n"
     ]
    }
   ],
   "source": [
    "syn_unimib = syn_unimib()\n",
    "syn_jumping = syn_unimib.syn_cl5s\n",
    "syn_jumping = np.transpose(syn_jumping, (0, 2, 1))\n",
    "print(syn_jumping.shape)\n",
    "\n",
    "syn_sittingdown = syn_unimib.syn_cl8s\n",
    "syn_sittingdown = np.transpose(syn_sittingdown, (0, 2, 1))\n",
    "print(syn_sittingdown.shape)"
   ]
  },
  {
   "cell_type": "code",
   "execution_count": 21,
   "metadata": {},
   "outputs": [
    {
     "name": "stdout",
     "output_type": "stream",
     "text": [
      "Average wavelet coherence unimib Jumping: 0.02294683900777248\n"
     ]
    }
   ],
   "source": [
    "# Calculate average wavelet coherence\n",
    "avg_coherence = calculate_wavelet_coherence(real_jumping, syn_jumping[:600])\n",
    "print(f\"Average wavelet coherence unimib Jumping: {avg_coherence}\")"
   ]
  },
  {
   "cell_type": "code",
   "execution_count": 22,
   "metadata": {},
   "outputs": [
    {
     "name": "stdout",
     "output_type": "stream",
     "text": [
      "Average wavelet coherence unimib sittingdown: 0.04557124241610943\n"
     ]
    }
   ],
   "source": [
    "# Calculate average wavelet coherence\n",
    "avg_coherence = calculate_wavelet_coherence(real_sittingdown, syn_sittingdown[:168])\n",
    "print(f\"Average wavelet coherence unimib sittingdown: {avg_coherence}\")"
   ]
  }
 ],
 "metadata": {
  "kernelspec": {
   "display_name": "PyTorch",
   "language": "python",
   "name": "pytorch"
  },
  "language_info": {
   "codemirror_mode": {
    "name": "ipython",
    "version": 3
   },
   "file_extension": ".py",
   "mimetype": "text/x-python",
   "name": "python",
   "nbconvert_exporter": "python",
   "pygments_lexer": "ipython3",
   "version": "3.8.8"
  }
 },
 "nbformat": 4,
 "nbformat_minor": 4
}
