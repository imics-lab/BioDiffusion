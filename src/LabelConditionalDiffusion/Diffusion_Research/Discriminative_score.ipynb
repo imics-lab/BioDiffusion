{
 "cells": [
  {
   "cell_type": "code",
   "execution_count": null,
   "metadata": {},
   "outputs": [],
   "source": [
    "# Computer discriminative_score"
   ]
  },
  {
   "cell_type": "code",
   "execution_count": null,
   "metadata": {},
   "outputs": [],
   "source": [
    "# load unimib real data"
   ]
  },
  {
   "cell_type": "code",
   "execution_count": 1,
   "metadata": {},
   "outputs": [
    {
     "name": "stderr",
     "output_type": "stream",
     "text": [
      "<frozen importlib._bootstrap>:219: RuntimeWarning: scipy._lib.messagestream.MessageStream size changed, may indicate binary incompatibility. Expected 56 from C header, got 64 from PyObject\n"
     ]
    }
   ],
   "source": [
    "from discriminative_score import *"
   ]
  },
  {
   "cell_type": "code",
   "execution_count": 2,
   "metadata": {},
   "outputs": [],
   "source": [
    "from MITBIH import *"
   ]
  },
  {
   "cell_type": "code",
   "execution_count": 3,
   "metadata": {},
   "outputs": [],
   "source": [
    "from sklearn.utils import resample"
   ]
  },
  {
   "cell_type": "code",
   "execution_count": 4,
   "metadata": {},
   "outputs": [
    {
     "name": "stdout",
     "output_type": "stream",
     "text": [
      "Data shape of Non-Ectopic Beats instances = (72471, 1, 128)\n"
     ]
    }
   ],
   "source": [
    "filename = './datasets/MITBIH/mitbih_train.csv'\n",
    "real_cls0 = mitbih_oneClass(filename = filename, class_id = 0).data"
   ]
  },
  {
   "cell_type": "code",
   "execution_count": 5,
   "metadata": {},
   "outputs": [
    {
     "name": "stdout",
     "output_type": "stream",
     "text": [
      "(72471, 128, 1)\n"
     ]
    }
   ],
   "source": [
    "real_cls0 = np.transpose(real_cls0, (0, 2, 1))\n",
    "print(real_cls0.shape)"
   ]
  },
  {
   "cell_type": "code",
   "execution_count": 6,
   "metadata": {},
   "outputs": [],
   "source": [
    "real_cls0 = resample(real_cls0, n_samples=7000, random_state=123, replace=True)"
   ]
  },
  {
   "cell_type": "code",
   "execution_count": 7,
   "metadata": {},
   "outputs": [
    {
     "name": "stdout",
     "output_type": "stream",
     "text": [
      "(7000, 128, 1)\n"
     ]
    }
   ],
   "source": [
    "print(real_cls0.shape)"
   ]
  },
  {
   "cell_type": "code",
   "execution_count": 8,
   "metadata": {},
   "outputs": [
    {
     "name": "stdout",
     "output_type": "stream",
     "text": [
      "Data shape of Fusion Beats instances = (6431, 1, 128)\n"
     ]
    }
   ],
   "source": [
    "real_cls4 = mitbih_oneClass(filename = filename, class_id = 4).data"
   ]
  },
  {
   "cell_type": "code",
   "execution_count": 9,
   "metadata": {},
   "outputs": [
    {
     "name": "stdout",
     "output_type": "stream",
     "text": [
      "(6431, 128, 1)\n"
     ]
    }
   ],
   "source": [
    "real_cls4 = np.transpose(real_cls4, (0, 2, 1))\n",
    "print(real_cls4.shape)"
   ]
  },
  {
   "cell_type": "code",
   "execution_count": null,
   "metadata": {},
   "outputs": [],
   "source": [
    "# load unimib synthetic data"
   ]
  },
  {
   "cell_type": "code",
   "execution_count": 10,
   "metadata": {},
   "outputs": [
    {
     "name": "stdout",
     "output_type": "stream",
     "text": [
      "data shape is (35000, 1, 128)\n",
      "labels shape is (35000,)\n",
      "The dataset including 7000 class 0, 7000 class 1, 7000 class 2, 7000 class 3, 7000 class 4\n"
     ]
    }
   ],
   "source": [
    "mitbih = syn_mitbih(n_samples = 7000)"
   ]
  },
  {
   "cell_type": "code",
   "execution_count": 11,
   "metadata": {},
   "outputs": [
    {
     "name": "stdout",
     "output_type": "stream",
     "text": [
      "(7000, 128, 1)\n"
     ]
    }
   ],
   "source": [
    "syn_cls0 = mitbih.syn_0\n",
    "syn_cls0 = np.transpose(syn_cls0, (0, 2, 1))\n",
    "print(syn_cls0.shape)"
   ]
  },
  {
   "cell_type": "code",
   "execution_count": 12,
   "metadata": {},
   "outputs": [
    {
     "name": "stdout",
     "output_type": "stream",
     "text": [
      "(7000, 128, 1)\n"
     ]
    }
   ],
   "source": [
    "syn_cls4 = mitbih.syn_4\n",
    "syn_cls4 = np.transpose(syn_cls4, (0, 2, 1))\n",
    "print(syn_cls4.shape)"
   ]
  },
  {
   "cell_type": "code",
   "execution_count": null,
   "metadata": {},
   "outputs": [],
   "source": [
    "# GRU need hidden_dim greater than 0 \n",
    "# so we need to duplicate the data to have more dimensions"
   ]
  },
  {
   "cell_type": "code",
   "execution_count": 13,
   "metadata": {},
   "outputs": [],
   "source": [
    "real_cls0_dup = np.repeat(real_cls0, 2, axis=2)\n",
    "real_cls4_dup = np.repeat(real_cls4, 2, axis=2)\n",
    "syn_cls0_dup = np.repeat(syn_cls0, 2, axis=2)\n",
    "syn_cls4_dup = np.repeat(syn_cls4, 2, axis=2)"
   ]
  },
  {
   "cell_type": "code",
   "execution_count": 14,
   "metadata": {},
   "outputs": [
    {
     "name": "stdout",
     "output_type": "stream",
     "text": [
      "acc is 0.859375\n"
     ]
    },
    {
     "data": {
      "text/plain": [
       "0.359375"
      ]
     },
     "execution_count": 14,
     "metadata": {},
     "output_type": "execute_result"
    }
   ],
   "source": [
    "discriminative_score_metrics(real_cls0_dup, syn_cls0_dup)"
   ]
  },
  {
   "cell_type": "code",
   "execution_count": 16,
   "metadata": {},
   "outputs": [
    {
     "name": "stdout",
     "output_type": "stream",
     "text": [
      "acc is 0.5\n"
     ]
    },
    {
     "data": {
      "text/plain": [
       "0.0"
      ]
     },
     "execution_count": 16,
     "metadata": {},
     "output_type": "execute_result"
    }
   ],
   "source": [
    "discriminative_score_metrics(real_cls4_dup, syn_cls4_dup[:6431])"
   ]
  },
  {
   "cell_type": "code",
   "execution_count": null,
   "metadata": {},
   "outputs": [],
   "source": []
  },
  {
   "cell_type": "code",
   "execution_count": null,
   "metadata": {},
   "outputs": [],
   "source": [
    "#load real UNIMIB data"
   ]
  },
  {
   "cell_type": "code",
   "execution_count": 17,
   "metadata": {},
   "outputs": [],
   "source": [
    "from UNIMIB import *"
   ]
  },
  {
   "cell_type": "code",
   "execution_count": 18,
   "metadata": {},
   "outputs": [
    {
     "name": "stdout",
     "output_type": "stream",
     "text": [
      "x_train shape is (6055, 3, 144), x_test shape is (1524, 3, 144)\n",
      "y_train shape is (6055,), y_test shape is (1524,)\n",
      "return single class data and labels, class is Jumping\n",
      "train_data shape is (600, 3, 144), test_data shape is (146, 3, 144)\n",
      "train label shape is (600,), test data shape is (146,)\n"
     ]
    }
   ],
   "source": [
    "real_jumping = unimib_load_dataset(single_class=True, class_name='Jumping').one_class_train_data"
   ]
  },
  {
   "cell_type": "code",
   "execution_count": 19,
   "metadata": {},
   "outputs": [],
   "source": [
    "real_jumping = np.transpose(real_jumping, (0, 2, 1))"
   ]
  },
  {
   "cell_type": "code",
   "execution_count": 20,
   "metadata": {},
   "outputs": [
    {
     "name": "stdout",
     "output_type": "stream",
     "text": [
      "(600, 144, 3)\n"
     ]
    }
   ],
   "source": [
    "print(real_jumping.shape)"
   ]
  },
  {
   "cell_type": "code",
   "execution_count": 21,
   "metadata": {},
   "outputs": [
    {
     "name": "stdout",
     "output_type": "stream",
     "text": [
      "x_train shape is (6055, 3, 144), x_test shape is (1524, 3, 144)\n",
      "y_train shape is (6055,), y_test shape is (1524,)\n",
      "return single class data and labels, class is SittingDown\n",
      "train_data shape is (168, 3, 144), test_data shape is (32, 3, 144)\n",
      "train label shape is (168,), test data shape is (32,)\n"
     ]
    }
   ],
   "source": [
    "real_sittingdown = unimib_load_dataset(single_class=True, class_name='SittingDown').one_class_train_data"
   ]
  },
  {
   "cell_type": "code",
   "execution_count": 22,
   "metadata": {},
   "outputs": [],
   "source": [
    "real_sittingdown = np.transpose(real_sittingdown, (0, 2, 1))"
   ]
  },
  {
   "cell_type": "code",
   "execution_count": 23,
   "metadata": {},
   "outputs": [
    {
     "name": "stdout",
     "output_type": "stream",
     "text": [
      "(168, 144, 3)\n"
     ]
    }
   ],
   "source": [
    "print(real_sittingdown.shape)"
   ]
  },
  {
   "cell_type": "code",
   "execution_count": 24,
   "metadata": {},
   "outputs": [
    {
     "name": "stdout",
     "output_type": "stream",
     "text": [
      "Data shape is (9000, 3, 144)\n",
      "Label shape is (9000,)\n"
     ]
    }
   ],
   "source": [
    "syn_unimib = syn_unimib()"
   ]
  },
  {
   "cell_type": "code",
   "execution_count": 25,
   "metadata": {},
   "outputs": [
    {
     "name": "stdout",
     "output_type": "stream",
     "text": [
      "(1000, 144, 3)\n"
     ]
    }
   ],
   "source": [
    "syn_jumping = syn_unimib.syn_cl5s\n",
    "syn_jumping = np.transpose(syn_jumping, (0, 2, 1))\n",
    "print(syn_jumping.shape)"
   ]
  },
  {
   "cell_type": "code",
   "execution_count": 26,
   "metadata": {},
   "outputs": [
    {
     "name": "stdout",
     "output_type": "stream",
     "text": [
      "(1000, 144, 3)\n"
     ]
    }
   ],
   "source": [
    "syn_sittingdown = syn_unimib.syn_cl8s\n",
    "syn_sittingdown = np.transpose(syn_sittingdown, (0, 2, 1))\n",
    "print(syn_sittingdown.shape)"
   ]
  },
  {
   "cell_type": "code",
   "execution_count": 27,
   "metadata": {},
   "outputs": [],
   "source": [
    "syn_jumping = resample(syn_jumping, n_samples=600, random_state=123, replace=True)"
   ]
  },
  {
   "cell_type": "code",
   "execution_count": 28,
   "metadata": {},
   "outputs": [
    {
     "name": "stdout",
     "output_type": "stream",
     "text": [
      "acc is 0.8263888888888888\n"
     ]
    },
    {
     "data": {
      "text/plain": [
       "0.32638888888888884"
      ]
     },
     "execution_count": 28,
     "metadata": {},
     "output_type": "execute_result"
    }
   ],
   "source": [
    "discriminative_score_metrics(real_jumping, syn_jumping)"
   ]
  },
  {
   "cell_type": "code",
   "execution_count": 29,
   "metadata": {},
   "outputs": [],
   "source": [
    "syn_sittingdown = resample(syn_sittingdown, n_samples=168, random_state=123, replace=True)"
   ]
  },
  {
   "cell_type": "code",
   "execution_count": 30,
   "metadata": {},
   "outputs": [
    {
     "name": "stdout",
     "output_type": "stream",
     "text": [
      "acc is 0.8229166666666666\n"
     ]
    },
    {
     "data": {
      "text/plain": [
       "0.32291666666666663"
      ]
     },
     "execution_count": 30,
     "metadata": {},
     "output_type": "execute_result"
    }
   ],
   "source": [
    "discriminative_score_metrics(real_sittingdown, syn_sittingdown)"
   ]
  }
 ],
 "metadata": {
  "kernelspec": {
   "display_name": "PyTorch",
   "language": "python",
   "name": "pytorch"
  },
  "language_info": {
   "codemirror_mode": {
    "name": "ipython",
    "version": 3
   },
   "file_extension": ".py",
   "mimetype": "text/x-python",
   "name": "python",
   "nbconvert_exporter": "python",
   "pygments_lexer": "ipython3",
   "version": "3.8.8"
  }
 },
 "nbformat": 4,
 "nbformat_minor": 4
}
