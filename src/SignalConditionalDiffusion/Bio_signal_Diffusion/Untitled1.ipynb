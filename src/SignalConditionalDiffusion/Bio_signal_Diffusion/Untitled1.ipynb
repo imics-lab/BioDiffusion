{
 "cells": [
  {
   "cell_type": "code",
   "execution_count": 1,
   "metadata": {},
   "outputs": [
    {
     "ename": "ModuleNotFoundError",
     "evalue": "No module named 'neurokit2'",
     "output_type": "error",
     "traceback": [
      "\u001b[0;31m---------------------------------------------------------------------------\u001b[0m",
      "\u001b[0;31mModuleNotFoundError\u001b[0m                       Traceback (most recent call last)",
      "\u001b[0;32m<ipython-input-1-431414831967>\u001b[0m in \u001b[0;36m<module>\u001b[0;34m\u001b[0m\n\u001b[1;32m      1\u001b[0m \u001b[0;32mimport\u001b[0m \u001b[0mnumpy\u001b[0m \u001b[0;32mas\u001b[0m \u001b[0mnp\u001b[0m\u001b[0;34m\u001b[0m\u001b[0;34m\u001b[0m\u001b[0m\n\u001b[1;32m      2\u001b[0m \u001b[0;32mimport\u001b[0m \u001b[0mmatplotlib\u001b[0m\u001b[0;34m.\u001b[0m\u001b[0mpyplot\u001b[0m \u001b[0;32mas\u001b[0m \u001b[0mplt\u001b[0m\u001b[0;34m\u001b[0m\u001b[0;34m\u001b[0m\u001b[0m\n\u001b[0;32m----> 3\u001b[0;31m \u001b[0;32mimport\u001b[0m \u001b[0mneurokit2\u001b[0m \u001b[0;32mas\u001b[0m \u001b[0mnk\u001b[0m\u001b[0;34m\u001b[0m\u001b[0;34m\u001b[0m\u001b[0m\n\u001b[0m\u001b[1;32m      4\u001b[0m \u001b[0;34m\u001b[0m\u001b[0m\n\u001b[1;32m      5\u001b[0m \u001b[0;31m# Generate an ECG signal\u001b[0m\u001b[0;34m\u001b[0m\u001b[0;34m\u001b[0m\u001b[0;34m\u001b[0m\u001b[0m\n",
      "\u001b[0;31mModuleNotFoundError\u001b[0m: No module named 'neurokit2'"
     ]
    }
   ],
   "source": [
    "import numpy as np\n",
    "import matplotlib.pyplot as plt\n",
    "import neurokit2 as nk\n",
    "\n",
    "# Generate an ECG signal\n",
    "duration = 10  # Duration of the ECG signal in seconds\n",
    "sampling_rate = 1000  # Sampling rate in Hz\n",
    "ecg_signal = nk.ecg_simulate(duration=duration, sampling_rate=sampling_rate, noise=0)\n",
    "\n",
    "# Gradually add Gaussian noise to the ECG signal\n",
    "n_plots = 5  # Number of signals to plot\n",
    "noise_levels = np.linspace(0, 1, n_plots)  # Noise levels to apply\n",
    "noisy_ecg_signals = []\n",
    "\n",
    "for noise_level in noise_levels:\n",
    "    noise = np.random.normal(0, noise_level, ecg_signal.shape)\n",
    "    noisy_ecg_signal = ecg_signal + noise\n",
    "    noisy_ecg_signals.append(noisy_ecg_signal)\n",
    "\n",
    "# Plot the signals\n",
    "plt.figure(figsize=(15, 10))\n",
    "\n",
    "for i, noisy_ecg_signal in enumerate(noisy_ecg_signals):\n",
    "    plt.subplot(n_plots, 1, i + 1)\n",
    "    plt.plot(noisy_ecg_signal)\n",
    "    plt.title(f\"Noise level: {noise_levels[i]:.2f}\")\n",
    "\n",
    "plt.tight_layout()\n",
    "plt.show()\n"
   ]
  },
  {
   "cell_type": "code",
   "execution_count": null,
   "metadata": {},
   "outputs": [],
   "source": []
  }
 ],
 "metadata": {
  "kernelspec": {
   "display_name": "PyTorch",
   "language": "python",
   "name": "pytorch"
  },
  "language_info": {
   "codemirror_mode": {
    "name": "ipython",
    "version": 3
   },
   "file_extension": ".py",
   "mimetype": "text/x-python",
   "name": "python",
   "nbconvert_exporter": "python",
   "pygments_lexer": "ipython3",
   "version": "3.8.8"
  }
 },
 "nbformat": 4,
 "nbformat_minor": 4
}
