{
 "cells": [
  {
   "cell_type": "code",
   "execution_count": 1,
   "metadata": {},
   "outputs": [],
   "source": [
    "# test if adding synthetic data to imbalance dataset, the classification accuracy can increase\n",
    "# test dataset: UNIMIB, MITBIH "
   ]
  },
  {
   "cell_type": "code",
   "execution_count": 2,
   "metadata": {},
   "outputs": [
    {
     "name": "stderr",
     "output_type": "stream",
     "text": [
      "<frozen importlib._bootstrap>:219: RuntimeWarning: scipy._lib.messagestream.MessageStream size changed, may indicate binary incompatibility. Expected 56 from C header, got 64 from PyObject\n"
     ]
    }
   ],
   "source": [
    "from MITBIH import *"
   ]
  },
  {
   "cell_type": "code",
   "execution_count": 3,
   "metadata": {},
   "outputs": [
    {
     "name": "stdout",
     "output_type": "stream",
     "text": [
      "data shape is (4000, 1, 128)\n",
      "labels shape is (4000,)\n",
      "The dataset including 800 class 0, 800 class 1, 800 class 2, 800 class 3, 800 class 4\n",
      "X_train shape is (87554, 1, 128)\n",
      "y_train shape is (87554,)\n",
      "The dataset including 72471 class 0, 2223 class 1, 5788 class 2, 641 class 3, 6431 class 4\n",
      "data shape is (5000, 1, 128)\n",
      "labels shape is (5000,)\n"
     ]
    }
   ],
   "source": [
    "mixed_ecg = mixed_mitbih(real_samples = 200, syn_samples = 800)"
   ]
  },
  {
   "cell_type": "code",
   "execution_count": 4,
   "metadata": {},
   "outputs": [
    {
     "name": "stdout",
     "output_type": "stream",
     "text": [
      "X_train shape is (21892, 1, 128)\n",
      "y_train shape is (21892,)\n",
      "The dataset including 18118 class 0, 556 class 1, 1448 class 2, 162 class 3, 1608 class 4\n"
     ]
    }
   ],
   "source": [
    "real_test_ecg_imbalanced = mitbih_allClass(filename='./datasets/MITBIH/mitbih_test.csv', isBalanced = False, oneD=True)"
   ]
  },
  {
   "cell_type": "code",
   "execution_count": 5,
   "metadata": {},
   "outputs": [
    {
     "name": "stdout",
     "output_type": "stream",
     "text": [
      "X_train shape is (2500, 1, 128)\n",
      "y_train shape is (2500,)\n",
      "The dataset including 500 class 0, 500 class 1,                   500 class 2, 500 class 3, 500 class 4\n"
     ]
    }
   ],
   "source": [
    "real_test_ecg_balanced = mitbih_allClass(filename='./datasets/MITBIH/mitbih_test.csv', isBalanced = True, n_samples = 500, oneD=True)"
   ]
  },
  {
   "cell_type": "code",
   "execution_count": 6,
   "metadata": {},
   "outputs": [
    {
     "name": "stdout",
     "output_type": "stream",
     "text": [
      "data shape is (5000, 1, 128)\n",
      "labels shape is (5000,)\n",
      "The dataset including 1000 class 0, 1000 class 1, 1000 class 2, 1000 class 3, 1000 class 4\n"
     ]
    }
   ],
   "source": [
    "syn_ecg = syn_mitbih()"
   ]
  },
  {
   "cell_type": "code",
   "execution_count": 7,
   "metadata": {},
   "outputs": [
    {
     "name": "stdout",
     "output_type": "stream",
     "text": [
      "X_train shape is (5000, 1, 128)\n",
      "y_train shape is (5000,)\n",
      "The dataset including 1000 class 0, 1000 class 1,                   1000 class 2, 1000 class 3, 1000 class 4\n"
     ]
    }
   ],
   "source": [
    "real_ecg = mitbih_allClass(filename='./datasets/MITBIH/mitbih_train.csv', isBalanced = True, n_samples = 1000, oneD=True)"
   ]
  },
  {
   "cell_type": "code",
   "execution_count": 8,
   "metadata": {},
   "outputs": [],
   "source": [
    "from torch.utils import data\n",
    "syn_loader = data.DataLoader(syn_ecg, batch_size=32, num_workers=4, shuffle=True)\n",
    "real_loader = data.DataLoader(real_ecg, batch_size=32, num_workers=4, shuffle=True)\n",
    "mixed_loader = data.DataLoader(mixed_ecg, batch_size=32, num_workers=4, shuffle=True)\n",
    "# test_real_loader = data.DataLoader(real_test_ecg, batch_size=32, num_workers=4, shuffle=True)\n",
    "\n",
    "#real_ecg_imbalanced_loader = data.DataLoader(real_ecg_imbalanced, batch_size=32, num_workers=4, shuffle=True)\n",
    "real_test_ecg_imbalanced_loader = data.DataLoader(real_test_ecg_imbalanced, batch_size=32, num_workers=4, shuffle=True)\n",
    "# real_ecg_balanced_loader = data.DataLoader(real_ecg_balanced, batch_size=32, num_workers=4, shuffle=True)\n",
    "# mixed_balanced_loader = data.DataLoader(mixed_ecg_balanced, batch_size=32, num_workers=4, shuffle=True)"
   ]
  },
  {
   "cell_type": "code",
   "execution_count": 9,
   "metadata": {},
   "outputs": [],
   "source": [
    "real_test_ecg_balanced_loader = data.DataLoader(real_test_ecg_balanced, batch_size=32, num_workers=4, shuffle=True)"
   ]
  },
  {
   "cell_type": "code",
   "execution_count": 10,
   "metadata": {},
   "outputs": [],
   "source": [
    "#Define a simple CNN classifier \n",
    "import torch\n",
    "import torch.nn as nn\n",
    "import torch.nn.functional as F\n",
    "\n",
    "\n",
    "class ECG_Net(nn.Module):\n",
    "    def __init__(self):\n",
    "        super().__init__()\n",
    "        self.conv1 = nn.Conv1d(1, 64, 6, padding = 3)\n",
    "        self.conv2 = nn.Conv1d(64, 64, 6, padding = 3)\n",
    "        self.conv3 = nn.Conv1d(64, 64, 3, padding = 1)\n",
    "        self.dropout = nn.Dropout(p=0.5) \n",
    "        self.pool = nn.MaxPool1d(3)\n",
    "        self.flatten = nn.Flatten()\n",
    "        self.fc1 = nn.Linear(896, 100)\n",
    "        self.fc2 = nn.Linear(100, 5)\n",
    "\n",
    "    def forward(self, x):\n",
    "        x = F.relu(self.conv1(x))\n",
    "        x = F.relu(self.conv2(x))\n",
    "        x = self.dropout(x)\n",
    "        x = self.pool(x)\n",
    "        x = F.relu(self.conv2(x))\n",
    "        x = self.pool(x)\n",
    "        x = self.flatten(x)\n",
    "        x = F.relu(self.fc1(x))\n",
    "        x = self.fc2(x)\n",
    "        \n",
    "        return x\n"
   ]
  },
  {
   "cell_type": "code",
   "execution_count": 11,
   "metadata": {},
   "outputs": [],
   "source": [
    "def train(model, train_data_loader, test_data_loader, epochs, criterion, optimizer, filename=\"test_cm\", save_name='model'):\n",
    "    for epoch in range(epochs):  # loop over the dataset multiple times\n",
    "        model.train()\n",
    "        total_loss = 0.0\n",
    "        total = 0\n",
    "        correct = 0\n",
    "\n",
    "        for i, data in enumerate(train_data_loader):\n",
    "            # get the inputs; data is a list of [inputs, labels]\n",
    "            inputs, labels = data\n",
    "            inputs = inputs.double()\n",
    "            labels = labels.long()\n",
    "\n",
    "            # zero the parameter gradients\n",
    "            optimizer.zero_grad()\n",
    "\n",
    "            # forward + backward + optimize\n",
    "            outputs = model(inputs)\n",
    "            loss = criterion(outputs, labels)\n",
    "            loss.backward()\n",
    "            optimizer.step()\n",
    "\n",
    "            # print statistics\n",
    "            total_loss += loss.item()\n",
    "\n",
    "#             y_pred = torch.round(torch.sigmoid(outputs))\n",
    "# #             y_pred = torch.round(outputs)\n",
    "#             correct = (y_pred == labels).sum()\n",
    "#             total_correct += correct\n",
    "#             total += len(labels)\n",
    "            \n",
    "            \n",
    "            _, predicted = torch.max(outputs.data, 1)\n",
    "            total += labels.size(0)\n",
    "            correct += (predicted == labels).sum().item()\n",
    "            \n",
    "\n",
    "        epoch_train_loss = total_loss / len(train_data_loader)\n",
    "        epoch_train_acc = correct / total\n",
    "        print(f'Epoch {epoch + 1}, train loss = {epoch_train_loss}, train acc = {epoch_train_acc}')\n",
    "\n",
    "        if (epoch+1) % 5 == 0:\n",
    "            _eval(model, test_data_loader, criterion, epoch)\n",
    "#             _eval_single_class(model, test_data_loader, criterion, epoch)\n",
    "            \n",
    "    _final_eval(model, test_data_loader, criterion, filename)\n",
    "    torch.save(model, f'./saved_model/{save_name}.pt')\n",
    "\n",
    "    print('Finished Training and testing')"
   ]
  },
  {
   "cell_type": "code",
   "execution_count": 12,
   "metadata": {},
   "outputs": [],
   "source": [
    "def _eval(model, real_test_loader, criterion, epoch):\n",
    "    model.eval()\n",
    "    total_loss = 0.0\n",
    "    correct = 0\n",
    "    total = 0\n",
    "    with torch.no_grad():\n",
    "        for i, data in enumerate(real_test_loader):\n",
    "            # get the inputs; data is a list of [inputs, labels]\n",
    "            inputs, labels = data\n",
    "            inputs = inputs.double()\n",
    "            labels = labels.long()\n",
    "\n",
    "            outputs = model(inputs)\n",
    "            loss = criterion(outputs, labels)\n",
    "\n",
    "            # print statistics\n",
    "            total_loss += loss.item()\n",
    "\n",
    "#             y_pred = torch.round(torch.sigmoid(outputs))\n",
    "#             correct = (y_pred == labels).sum()\n",
    "#             total_correct += correct\n",
    "#             total += len(labels)\n",
    "\n",
    "            _, predicted = torch.max(outputs.data, 1)\n",
    "            total += labels.size(0)\n",
    "            correct += (predicted == labels).sum().item()\n",
    "\n",
    "        epoch_test_loss = total_loss / len(real_test_loader)\n",
    "        epoch_test_acc = correct / total\n",
    "    \n",
    "    print('=====================================================')\n",
    "    print(f'Epoch {epoch+1}, test loss = {epoch_test_loss}, test acc = {epoch_test_acc}')\n",
    "    print('=====================================================')"
   ]
  },
  {
   "cell_type": "code",
   "execution_count": 13,
   "metadata": {},
   "outputs": [],
   "source": [
    "classes = ['Non-Ectopic Beats', 'Superventrical Ectopic', 'Ventricular Beats', 'Unknown', 'Fusion Beats']\n",
    "classes_idx = ['1','2','3','4','5']\n",
    "correct_pred = {classname: 0 for classname in classes}\n",
    "total_pred = {classname: 0 for classname in classes}"
   ]
  },
  {
   "cell_type": "code",
   "execution_count": 14,
   "metadata": {},
   "outputs": [],
   "source": [
    "def _eval_single_class(model, real_test_loader, criterion, epoch):\n",
    "    model.eval()\n",
    "    total_loss = 0.0\n",
    "    correct = 0\n",
    "    total = 0\n",
    "    with torch.no_grad():\n",
    "        for i, data in enumerate(real_test_loader):\n",
    "            # get the inputs; data is a list of [inputs, labels]\n",
    "            inputs, labels = data\n",
    "            inputs = inputs.double()\n",
    "            labels = labels.long()\n",
    "\n",
    "            outputs = model(inputs)\n",
    "            loss = criterion(outputs, labels)\n",
    "\n",
    "            # print statistics\n",
    "            total_loss += loss.item()\n",
    "            _, predictions = torch.max(outputs, 1)\n",
    "            # collect the correct predictions for each class\n",
    "            for label, prediction in zip(labels, predictions):\n",
    "                if label == prediction:\n",
    "                    correct_pred[classes[label]] += 1\n",
    "                total_pred[classes[label]] += 1\n",
    "\n",
    "\n",
    "    # print accuracy for each class\n",
    "    for classname, correct_count in correct_pred.items():\n",
    "        accuracy = 100 * float(correct_count) / total_pred[classname]\n",
    "        print(\"Accuracy for class {:5s} is: {:.1f} %\".format(classname,\n",
    "                                                       accuracy))"
   ]
  },
  {
   "cell_type": "code",
   "execution_count": 15,
   "metadata": {},
   "outputs": [],
   "source": [
    "from sklearn.metrics import confusion_matrix\n",
    "from sklearn.metrics import classification_report\n",
    "from sklearn.metrics import precision_recall_fscore_support\n",
    "import seaborn as sns\n",
    "import pandas as pd\n",
    "import matplotlib.pyplot as plt\n",
    "\n",
    "def _final_eval(model, real_test_loader, criterion, filename=\"test_cm\"):\n",
    "    nb_classes = 5\n",
    "    predlist=torch.zeros(0,dtype=torch.long, device='cpu')\n",
    "    lbllist=torch.zeros(0,dtype=torch.long, device='cpu')\n",
    "    target_names = classes\n",
    "    y_preds = []\n",
    "    y_trues = []\n",
    "    with torch.no_grad():\n",
    "        for i, data in enumerate(real_test_loader):\n",
    "            inputs, labels = data\n",
    "            inputs = inputs.double()\n",
    "            labels = labels.long()\n",
    "            \n",
    "            outputs = model(inputs)\n",
    "            _, predictions = torch.max(outputs, 1)\n",
    "\n",
    "            # Append batch prediction results\n",
    "            predlist=torch.cat([predlist,predictions.view(-1).cpu()])\n",
    "            lbllist=torch.cat([lbllist,labels.view(-1).cpu()])\n",
    "            \n",
    "            y_preds.append(predictions)\n",
    "            y_trues.append(labels)\n",
    "            \n",
    "    # Confusion matrix\n",
    "    cm=confusion_matrix(lbllist.numpy(), predlist.numpy())\n",
    "    print(cm)\n",
    "    cm_df = pd.DataFrame(cm,\n",
    "                     index = classes_idx, \n",
    "                     columns = classes_idx)\n",
    "    fig = plt.figure(figsize=(6.5,5))\n",
    "    sns.heatmap(cm_df, annot=True, fmt='d', cmap='cubehelix_r')\n",
    "#     plt.title('ECG classification Accuracy')\n",
    "    plt.ylabel('True label', fontsize=20)\n",
    "    plt.xlabel('Predicted label',fontsize=20)\n",
    "    plt.tight_layout() # keeps labels from being cutoff when saving as pdf\n",
    "    plt.savefig(f'{filename}.pdf')\n",
    "    plt.show()\n",
    "    \n",
    "    # Per-class accuracy\n",
    "    class_accuracy = 100*cm.diagonal() / cm.sum(1)\n",
    "    print(class_accuracy)\n",
    "    \n",
    "    #print classification report \n",
    "#     y_preds = np.array(y_preds)\n",
    "#     y_trues = np.array(y_trues)\n",
    "    y_preds_flatten = [label for sublist in y_preds for label in sublist]\n",
    "    y_trues_flatten = [label for sublist in y_trues for label in sublist]\n",
    "#     y_preds = y_preds.flatten()\n",
    "#     y_trues = y_trues.flatten()\n",
    "    print(classification_report(y_trues_flatten, y_preds_flatten, target_names=classes))\n",
    "    print('Micro avg')\n",
    "    print(precision_recall_fscore_support(y_trues_flatten, y_preds_flatten, average='micro'))"
   ]
  },
  {
   "cell_type": "code",
   "execution_count": 16,
   "metadata": {},
   "outputs": [
    {
     "name": "stdout",
     "output_type": "stream",
     "text": [
      "Epoch 1, train loss = 1.6069145215297935, train acc = 0.2002\n",
      "Epoch 2, train loss = 1.5906006347991641, train acc = 0.279\n",
      "Epoch 3, train loss = 1.5526235850412868, train acc = 0.38\n",
      "Epoch 4, train loss = 1.4345276369909, train acc = 0.4802\n",
      "Epoch 5, train loss = 1.1949880965170445, train acc = 0.581\n",
      "=====================================================\n",
      "Epoch 5, test loss = 1.1662966107622992, test acc = 0.6408\n",
      "=====================================================\n",
      "Epoch 6, train loss = 1.0130267745238026, train acc = 0.6544\n",
      "Epoch 7, train loss = 0.9248982534121283, train acc = 0.675\n",
      "Epoch 8, train loss = 0.8743951890752648, train acc = 0.6928\n",
      "Epoch 9, train loss = 0.821634258947341, train acc = 0.7076\n",
      "Epoch 10, train loss = 0.7757867387624544, train acc = 0.7294\n",
      "=====================================================\n",
      "Epoch 10, test loss = 0.8323550533349081, test acc = 0.7276\n",
      "=====================================================\n",
      "Epoch 11, train loss = 0.7340189210134604, train acc = 0.7432\n",
      "Epoch 12, train loss = 0.6906006678939095, train acc = 0.7566\n",
      "Epoch 13, train loss = 0.6570815870797009, train acc = 0.7702\n",
      "Epoch 14, train loss = 0.6131982887438634, train acc = 0.7804\n",
      "Epoch 15, train loss = 0.5854368952112816, train acc = 0.7992\n",
      "=====================================================\n",
      "Epoch 15, test loss = 0.6957845095460367, test acc = 0.77\n",
      "=====================================================\n",
      "Epoch 16, train loss = 0.5641178694425666, train acc = 0.799\n",
      "Epoch 17, train loss = 0.5472239765131591, train acc = 0.8036\n",
      "Epoch 18, train loss = 0.5182120754868634, train acc = 0.8138\n",
      "Epoch 19, train loss = 0.5041427476519073, train acc = 0.8214\n",
      "Epoch 20, train loss = 0.49943244010966176, train acc = 0.818\n",
      "=====================================================\n",
      "Epoch 20, test loss = 0.6063763385436495, test acc = 0.8132\n",
      "=====================================================\n",
      "Epoch 21, train loss = 0.48581589851916734, train acc = 0.826\n",
      "Epoch 22, train loss = 0.4728014099330466, train acc = 0.8276\n",
      "Epoch 23, train loss = 0.46370854434815156, train acc = 0.8306\n",
      "Epoch 24, train loss = 0.45174651705756613, train acc = 0.8364\n",
      "Epoch 25, train loss = 0.4526764086381521, train acc = 0.8366\n",
      "=====================================================\n",
      "Epoch 25, test loss = 0.5664825598986881, test acc = 0.82\n",
      "=====================================================\n",
      "Epoch 26, train loss = 0.44144846939538085, train acc = 0.8392\n",
      "Epoch 27, train loss = 0.4475150338739757, train acc = 0.8392\n",
      "Epoch 28, train loss = 0.42907829723515306, train acc = 0.8418\n",
      "Epoch 29, train loss = 0.4289168048217397, train acc = 0.8424\n",
      "Epoch 30, train loss = 0.41217032361252615, train acc = 0.8474\n",
      "=====================================================\n",
      "Epoch 30, test loss = 0.5566452470182279, test acc = 0.8116\n",
      "=====================================================\n",
      "Epoch 31, train loss = 0.41021872396868436, train acc = 0.8494\n",
      "Epoch 32, train loss = 0.4018143696007706, train acc = 0.8546\n",
      "Epoch 33, train loss = 0.4151778447783832, train acc = 0.8468\n",
      "Epoch 34, train loss = 0.3862781894132857, train acc = 0.859\n",
      "Epoch 35, train loss = 0.3940387918082046, train acc = 0.8568\n",
      "=====================================================\n",
      "Epoch 35, test loss = 0.5131467603177696, test acc = 0.85\n",
      "=====================================================\n",
      "Epoch 36, train loss = 0.3833818967784905, train acc = 0.8636\n",
      "Epoch 37, train loss = 0.37903212911233336, train acc = 0.8632\n",
      "Epoch 38, train loss = 0.3693482645426881, train acc = 0.8668\n",
      "Epoch 39, train loss = 0.37869080791112186, train acc = 0.8604\n",
      "Epoch 40, train loss = 0.35532261263356335, train acc = 0.8748\n",
      "=====================================================\n",
      "Epoch 40, test loss = 0.48637933896663615, test acc = 0.8468\n",
      "=====================================================\n",
      "Epoch 41, train loss = 0.35879294168354814, train acc = 0.867\n",
      "Epoch 42, train loss = 0.3530398614646641, train acc = 0.8708\n",
      "Epoch 43, train loss = 0.3374595713261003, train acc = 0.8832\n",
      "Epoch 44, train loss = 0.35468494882552987, train acc = 0.868\n",
      "Epoch 45, train loss = 0.33693744363534844, train acc = 0.8758\n",
      "=====================================================\n",
      "Epoch 45, test loss = 0.4780566214645438, test acc = 0.8396\n",
      "=====================================================\n",
      "Epoch 46, train loss = 0.34184662578557673, train acc = 0.8746\n",
      "Epoch 47, train loss = 0.3290785491703175, train acc = 0.8862\n",
      "Epoch 48, train loss = 0.3262232655223544, train acc = 0.8796\n",
      "Epoch 49, train loss = 0.3242068383619972, train acc = 0.8766\n",
      "Epoch 50, train loss = 0.321620983210411, train acc = 0.8856\n",
      "=====================================================\n",
      "Epoch 50, test loss = 0.44739270198171993, test acc = 0.8544\n",
      "=====================================================\n",
      "[[404  43  11  34   8]\n",
      " [ 80 399   6  13   2]\n",
      " [ 32  23 421  22   2]\n",
      " [ 33   3  11 451   2]\n",
      " [ 25   2  11   1 461]]\n"
     ]
    },
    {
     "data": {
      "image/png": "[encoded data removed]",
      "text/plain": [
       "<Figure size 468x360 with 2 Axes>"
      ]
     },
     "metadata": {
      "needs_background": "light"
     },
     "output_type": "display_data"
    },
    {
     "name": "stdout",
     "output_type": "stream",
     "text": [
      "[80.8 79.8 84.2 90.2 92.2]\n",
      "                        precision    recall  f1-score   support\n",
      "\n",
      "     Non-Ectopic Beats       0.70      0.81      0.75       500\n",
      "Superventrical Ectopic       0.85      0.80      0.82       500\n",
      "     Ventricular Beats       0.92      0.84      0.88       500\n",
      "               Unknown       0.87      0.90      0.88       500\n",
      "          Fusion Beats       0.97      0.92      0.95       500\n",
      "\n",
      "              accuracy                           0.85      2500\n",
      "             macro avg       0.86      0.85      0.86      2500\n",
      "          weighted avg       0.86      0.85      0.86      2500\n",
      "\n",
      "Micro avg\n",
      "(0.8544, 0.8544, 0.8544, None)\n",
      "Finished Training and testing\n"
     ]
    }
   ],
   "source": [
    "import torch.optim as optim\n",
    "ECG_model = ECG_Net()\n",
    "ECG_model.double()\n",
    "criterion = nn.CrossEntropyLoss()\n",
    "optimizer = optim.SGD(ECG_model.parameters(), lr=0.0005, momentum=0.9)\n",
    "train(ECG_model, real_loader, real_test_ecg_balanced_loader, 50, criterion, optimizer, filename='real_data')"
   ]
  },
  {
   "cell_type": "code",
   "execution_count": 17,
   "metadata": {},
   "outputs": [
    {
     "name": "stdout",
     "output_type": "stream",
     "text": [
      "Epoch 1, train loss = 1.60334124216608, train acc = 0.2408\n",
      "Epoch 2, train loss = 1.5817936097724765, train acc = 0.2876\n",
      "Epoch 3, train loss = 1.5080355069019467, train acc = 0.438\n",
      "Epoch 4, train loss = 1.2590663756307883, train acc = 0.6138\n",
      "Epoch 5, train loss = 0.9137038473952889, train acc = 0.7084\n",
      "=====================================================\n",
      "Epoch 5, test loss = 1.1107273864575902, test acc = 0.6352\n",
      "=====================================================\n",
      "Epoch 6, train loss = 0.754836887817787, train acc = 0.7556\n",
      "Epoch 7, train loss = 0.7011741278142402, train acc = 0.7656\n",
      "Epoch 8, train loss = 0.6689997026463496, train acc = 0.7688\n",
      "Epoch 9, train loss = 0.6414026453909971, train acc = 0.7746\n",
      "Epoch 10, train loss = 0.6252118592693993, train acc = 0.7814\n",
      "=====================================================\n",
      "Epoch 10, test loss = 0.9051425304406298, test acc = 0.6808\n",
      "=====================================================\n",
      "Epoch 11, train loss = 0.5982501869717612, train acc = 0.7882\n",
      "Epoch 12, train loss = 0.5793398164369319, train acc = 0.7938\n",
      "Epoch 13, train loss = 0.5576707885069975, train acc = 0.8024\n",
      "Epoch 14, train loss = 0.5349677379611772, train acc = 0.809\n",
      "Epoch 15, train loss = 0.5258402521198572, train acc = 0.817\n",
      "=====================================================\n",
      "Epoch 15, test loss = 0.8563481290278204, test acc = 0.712\n",
      "=====================================================\n",
      "Epoch 16, train loss = 0.49887176202421074, train acc = 0.8252\n",
      "Epoch 17, train loss = 0.4773261642358691, train acc = 0.833\n",
      "Epoch 18, train loss = 0.4617627672426213, train acc = 0.8364\n",
      "Epoch 19, train loss = 0.4440063879653937, train acc = 0.8438\n",
      "Epoch 20, train loss = 0.42747771036528986, train acc = 0.8514\n",
      "=====================================================\n",
      "Epoch 20, test loss = 0.7564725317264228, test acc = 0.7524\n",
      "=====================================================\n",
      "Epoch 21, train loss = 0.414386683916456, train acc = 0.8538\n",
      "Epoch 22, train loss = 0.40486003683257704, train acc = 0.8566\n",
      "Epoch 23, train loss = 0.39234775886131573, train acc = 0.8578\n",
      "Epoch 24, train loss = 0.3812856212572484, train acc = 0.864\n",
      "Epoch 25, train loss = 0.3803874642196987, train acc = 0.8618\n",
      "=====================================================\n",
      "Epoch 25, test loss = 0.6796930667109656, test acc = 0.7772\n",
      "=====================================================\n",
      "Epoch 26, train loss = 0.3683473010154319, train acc = 0.8654\n",
      "Epoch 27, train loss = 0.35472798984359405, train acc = 0.8726\n",
      "Epoch 28, train loss = 0.3559975158960466, train acc = 0.8712\n",
      "Epoch 29, train loss = 0.34557127834323437, train acc = 0.8724\n",
      "Epoch 30, train loss = 0.3390561226180637, train acc = 0.8746\n",
      "=====================================================\n",
      "Epoch 30, test loss = 0.6661680199751896, test acc = 0.778\n",
      "=====================================================\n",
      "Epoch 31, train loss = 0.3323341027212116, train acc = 0.8774\n",
      "Epoch 32, train loss = 0.3263161752012196, train acc = 0.8856\n",
      "Epoch 33, train loss = 0.3246861771272515, train acc = 0.8804\n",
      "Epoch 34, train loss = 0.3181959037290177, train acc = 0.8832\n",
      "Epoch 35, train loss = 0.30745629717312506, train acc = 0.8902\n",
      "=====================================================\n",
      "Epoch 35, test loss = 0.6285019691786525, test acc = 0.782\n",
      "=====================================================\n",
      "Epoch 36, train loss = 0.3141921220973303, train acc = 0.888\n",
      "Epoch 37, train loss = 0.3060570519803605, train acc = 0.8888\n",
      "Epoch 38, train loss = 0.29806235683714943, train acc = 0.8942\n",
      "Epoch 39, train loss = 0.298511190984298, train acc = 0.8916\n",
      "Epoch 40, train loss = 0.288566091322175, train acc = 0.8982\n",
      "=====================================================\n",
      "Epoch 40, test loss = 0.6100533312416581, test acc = 0.798\n",
      "=====================================================\n",
      "Epoch 41, train loss = 0.28729372057974956, train acc = 0.8956\n",
      "Epoch 42, train loss = 0.2818618942583735, train acc = 0.8996\n",
      "Epoch 43, train loss = 0.285911663968578, train acc = 0.8934\n",
      "Epoch 44, train loss = 0.2806417835325017, train acc = 0.9004\n",
      "Epoch 45, train loss = 0.269787953884767, train acc = 0.902\n",
      "=====================================================\n",
      "Epoch 45, test loss = 0.5654083698373923, test acc = 0.812\n",
      "=====================================================\n",
      "Epoch 46, train loss = 0.2711128144681499, train acc = 0.9012\n",
      "Epoch 47, train loss = 0.2655448097598213, train acc = 0.907\n",
      "Epoch 48, train loss = 0.26169178689746003, train acc = 0.9076\n",
      "Epoch 49, train loss = 0.255597938430887, train acc = 0.9102\n",
      "Epoch 50, train loss = 0.2619521607119403, train acc = 0.906\n",
      "=====================================================\n",
      "Epoch 50, test loss = 0.557860178278321, test acc = 0.8212\n",
      "=====================================================\n",
      "[[374  10  41  54  21]\n",
      " [123 319  36  16   6]\n",
      " [ 20   8 437  27   8]\n",
      " [ 19   0  35 444   2]\n",
      " [ 12   1   7   1 479]]\n"
     ]
    },
    {
     "data": {
      "image/png": "[encoded data removed]",
      "text/plain": [
       "<Figure size 468x360 with 2 Axes>"
      ]
     },
     "metadata": {
      "needs_background": "light"
     },
     "output_type": "display_data"
    },
    {
     "name": "stdout",
     "output_type": "stream",
     "text": [
      "[74.8 63.8 87.4 88.8 95.8]\n",
      "                        precision    recall  f1-score   support\n",
      "\n",
      "     Non-Ectopic Beats       0.68      0.75      0.71       500\n",
      "Superventrical Ectopic       0.94      0.64      0.76       500\n",
      "     Ventricular Beats       0.79      0.87      0.83       500\n",
      "               Unknown       0.82      0.89      0.85       500\n",
      "          Fusion Beats       0.93      0.96      0.94       500\n",
      "\n",
      "              accuracy                           0.82      2500\n",
      "             macro avg       0.83      0.82      0.82      2500\n",
      "          weighted avg       0.83      0.82      0.82      2500\n",
      "\n",
      "Micro avg\n",
      "(0.8212, 0.8212, 0.8212, None)\n",
      "Finished Training and testing\n"
     ]
    }
   ],
   "source": [
    "import torch.optim as optim\n",
    "ECG_model = ECG_Net()\n",
    "ECG_model.double()\n",
    "criterion = nn.CrossEntropyLoss()\n",
    "optimizer = optim.SGD(ECG_model.parameters(), lr=0.0005, momentum=0.9)\n",
    "train(ECG_model, syn_loader, real_test_ecg_balanced_loader, 50, criterion, optimizer, filename='syn_data')"
   ]
  },
  {
   "cell_type": "code",
   "execution_count": 18,
   "metadata": {},
   "outputs": [
    {
     "name": "stdout",
     "output_type": "stream",
     "text": [
      "Epoch 1, train loss = 1.6066343406314085, train acc = 0.232\n",
      "Epoch 2, train loss = 1.5911881417742773, train acc = 0.3216\n",
      "Epoch 3, train loss = 1.5464176116570338, train acc = 0.4692\n",
      "Epoch 4, train loss = 1.3811793455060735, train acc = 0.5118\n",
      "Epoch 5, train loss = 1.0810463937000128, train acc = 0.6568\n",
      "=====================================================\n",
      "Epoch 5, test loss = 1.1682420769624384, test acc = 0.614\n",
      "=====================================================\n",
      "Epoch 6, train loss = 0.8596848860128354, train acc = 0.717\n",
      "Epoch 7, train loss = 0.7749230664263266, train acc = 0.7452\n",
      "Epoch 8, train loss = 0.7347213394081484, train acc = 0.7518\n",
      "Epoch 9, train loss = 0.7029588853687301, train acc = 0.7604\n",
      "Epoch 10, train loss = 0.6787689276080795, train acc = 0.7638\n",
      "=====================================================\n",
      "Epoch 10, test loss = 0.8855726860873414, test acc = 0.6932\n",
      "=====================================================\n",
      "Epoch 11, train loss = 0.648265017123411, train acc = 0.7714\n",
      "Epoch 12, train loss = 0.6234058654496818, train acc = 0.7816\n",
      "Epoch 13, train loss = 0.5965450543816595, train acc = 0.7872\n",
      "Epoch 14, train loss = 0.5637930265298345, train acc = 0.804\n",
      "Epoch 15, train loss = 0.5391813370478696, train acc = 0.8092\n",
      "=====================================================\n",
      "Epoch 15, test loss = 0.783653561005557, test acc = 0.7264\n",
      "=====================================================\n",
      "Epoch 16, train loss = 0.523454157752424, train acc = 0.8202\n",
      "Epoch 17, train loss = 0.49741367955873994, train acc = 0.823\n",
      "Epoch 18, train loss = 0.47832816466827227, train acc = 0.83\n",
      "Epoch 19, train loss = 0.46509080673348596, train acc = 0.83\n",
      "Epoch 20, train loss = 0.4409825735154563, train acc = 0.8402\n",
      "=====================================================\n",
      "Epoch 20, test loss = 0.6880822554495597, test acc = 0.7696\n",
      "=====================================================\n",
      "Epoch 21, train loss = 0.4344500207275921, train acc = 0.8438\n",
      "Epoch 22, train loss = 0.4182135087919354, train acc = 0.8474\n",
      "Epoch 23, train loss = 0.4060739613027984, train acc = 0.8468\n",
      "Epoch 24, train loss = 0.4035891732417229, train acc = 0.8568\n",
      "Epoch 25, train loss = 0.39649650811485854, train acc = 0.8538\n",
      "=====================================================\n",
      "Epoch 25, test loss = 0.5957661307483307, test acc = 0.8012\n",
      "=====================================================\n",
      "Epoch 26, train loss = 0.3798423913153907, train acc = 0.8618\n",
      "Epoch 27, train loss = 0.38215074657158965, train acc = 0.8602\n",
      "Epoch 28, train loss = 0.37048843065400355, train acc = 0.865\n",
      "Epoch 29, train loss = 0.36399826830913456, train acc = 0.8676\n",
      "Epoch 30, train loss = 0.3555383036231912, train acc = 0.868\n",
      "=====================================================\n",
      "Epoch 30, test loss = 0.5752133784000508, test acc = 0.8176\n",
      "=====================================================\n",
      "Epoch 31, train loss = 0.35004493525347546, train acc = 0.8702\n",
      "Epoch 32, train loss = 0.3451603163404475, train acc = 0.8714\n",
      "Epoch 33, train loss = 0.34182441020131676, train acc = 0.8734\n",
      "Epoch 34, train loss = 0.3414943039303911, train acc = 0.8766\n",
      "Epoch 35, train loss = 0.32812319580625504, train acc = 0.8806\n",
      "=====================================================\n",
      "Epoch 35, test loss = 0.5497880011435405, test acc = 0.8096\n",
      "=====================================================\n",
      "Epoch 36, train loss = 0.32147652887773276, train acc = 0.8834\n",
      "Epoch 37, train loss = 0.32046731687855096, train acc = 0.8854\n",
      "Epoch 38, train loss = 0.31749219620101554, train acc = 0.881\n",
      "Epoch 39, train loss = 0.30996581606085044, train acc = 0.883\n",
      "Epoch 40, train loss = 0.3056133321459005, train acc = 0.8892\n",
      "=====================================================\n",
      "Epoch 40, test loss = 0.5663144464803246, test acc = 0.8164\n",
      "=====================================================\n",
      "Epoch 41, train loss = 0.3039325174306721, train acc = 0.8882\n",
      "Epoch 42, train loss = 0.3006121055378112, train acc = 0.8894\n",
      "Epoch 43, train loss = 0.30120462109058443, train acc = 0.891\n",
      "Epoch 44, train loss = 0.2998072854039702, train acc = 0.887\n",
      "Epoch 45, train loss = 0.2911374816068369, train acc = 0.8892\n",
      "=====================================================\n",
      "Epoch 45, test loss = 0.4948980370840281, test acc = 0.84\n",
      "=====================================================\n",
      "Epoch 46, train loss = 0.28257920585012514, train acc = 0.896\n",
      "Epoch 47, train loss = 0.2847527221363954, train acc = 0.8928\n",
      "Epoch 48, train loss = 0.2855324440854693, train acc = 0.895\n",
      "Epoch 49, train loss = 0.28034374815422974, train acc = 0.8986\n",
      "Epoch 50, train loss = 0.2809709154841853, train acc = 0.9\n",
      "=====================================================\n",
      "Epoch 50, test loss = 0.5093941338521478, test acc = 0.8332\n",
      "=====================================================\n",
      "[[390  14  18  65  13]\n",
      " [124 340  11  21   4]\n",
      " [ 20   8 417  50   5]\n",
      " [ 15   3  17 463   2]\n",
      " [ 14   1   3   9 473]]\n"
     ]
    },
    {
     "data": {
      "image/png": "[encoded data removed]",
      "text/plain": [
       "<Figure size 468x360 with 2 Axes>"
      ]
     },
     "metadata": {
      "needs_background": "light"
     },
     "output_type": "display_data"
    },
    {
     "name": "stdout",
     "output_type": "stream",
     "text": [
      "[78.  68.  83.4 92.6 94.6]\n",
      "                        precision    recall  f1-score   support\n",
      "\n",
      "     Non-Ectopic Beats       0.69      0.78      0.73       500\n",
      "Superventrical Ectopic       0.93      0.68      0.79       500\n",
      "     Ventricular Beats       0.89      0.83      0.86       500\n",
      "               Unknown       0.76      0.93      0.84       500\n",
      "          Fusion Beats       0.95      0.95      0.95       500\n",
      "\n",
      "              accuracy                           0.83      2500\n",
      "             macro avg       0.85      0.83      0.83      2500\n",
      "          weighted avg       0.85      0.83      0.83      2500\n",
      "\n",
      "Micro avg\n",
      "(0.8332, 0.8332, 0.8332, None)\n",
      "Finished Training and testing\n"
     ]
    }
   ],
   "source": [
    "ECG_model = ECG_Net()\n",
    "ECG_model.double()\n",
    "criterion = nn.CrossEntropyLoss()\n",
    "optimizer = optim.SGD(ECG_model.parameters(), lr=0.0005, momentum=0.9)\n",
    "train(ECG_model, mixed_loader, real_test_ecg_balanced_loader, 50, criterion, optimizer, filename='mixed_data')"
   ]
  }
 ],
 "metadata": {
  "kernelspec": {
   "display_name": "PyTorch",
   "language": "python",
   "name": "pytorch"
  },
  "language_info": {
   "codemirror_mode": {
    "name": "ipython",
    "version": 3
   },
   "file_extension": ".py",
   "mimetype": "text/x-python",
   "name": "python",
   "nbconvert_exporter": "python",
   "pygments_lexer": "ipython3",
   "version": "3.8.8"
  }
 },
 "nbformat": 4,
 "nbformat_minor": 4
}
